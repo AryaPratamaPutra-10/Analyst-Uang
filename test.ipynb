{
  "cells": [
    {
      "cell_type": "markdown",
      "metadata": {
        "id": "view-in-github",
        "colab_type": "text"
      },
      "source": [
        "<a href=\"https://colab.research.google.com/github/AryaPratamaPutra-10/Analyst-Uang/blob/main/test.ipynb\" target=\"_parent\"><img src=\"https://colab.research.google.com/assets/colab-badge.svg\" alt=\"Open In Colab\"/></a>"
      ]
    },
    {
      "cell_type": "code",
      "source": [],
      "metadata": {
        "id": "CmiZiHWNd5P_"
      },
      "execution_count": null,
      "outputs": []
    },
    {
      "cell_type": "code",
      "source": [
        "import os\n",
        "import cv2\n",
        "import matplotlib.pyplot as plt\n",
        "import numpy as np"
      ],
      "metadata": {
        "id": "xzLmE_alfCD5"
      },
      "execution_count": null,
      "outputs": []
    },
    {
      "cell_type": "markdown",
      "source": [
        "HSI\n",
        "\n",
        "fungsi otsu_thresholding = untuk melakukan segmentasi gambar menggunakan metode otsu's thresholding. Sederhananya, metode ini akan mengubah gambar berwarna atau grayscale menjadi gambar hitam putih (binary) dengan cara menentukan nilai ambang batas (threshold) yang optimal."
      ],
      "metadata": {
        "id": "7NIQsNj0gVyP"
      }
    },
    {
      "cell_type": "code",
      "source": [
        "def otsu_thresholding(image_path, output_size=(300, 300)):\n",
        "    # Baca gambar\n",
        "    original_image = cv2.imread(image_path)\n",
        "\n",
        "    # Konversi gambar ke model warna HSI\n",
        "    hsi_image = cv2.cvtColor(original_image, cv2.COLOR_BGR2HSV)\n",
        "\n",
        "    # Ambil saluran intensitas (komponen I dari HSI)\n",
        "    intensity_channel = hsi_image[:, :, 2]\n",
        "\n",
        "    # Resize gambar asli\n",
        "    resized_original = cv2.resize(intensity_channel, output_size)\n",
        "\n",
        "    # Hitung histogram\n",
        "    hist = cv2.calcHist([intensity_channel], [0], None, [256], [0, 256])\n",
        "\n",
        "    # Normalisasi histogram\n",
        "    hist_norm = hist.ravel() / hist.sum()\n",
        "\n",
        "    # Hitung kumulatif histogram\n",
        "    Q = hist_norm.cumsum()\n",
        "\n",
        "    # Hitung kumulatif mean\n",
        "    bins = np.arange(256)\n",
        "    mean = np.sum(bins * hist_norm)\n",
        "\n",
        "    # Hitung variance antara kelas\n",
        "    variance = np.sum((bins - mean) ** 2 * hist_norm)\n",
        "\n",
        "     # Inisialisasi variabel\n",
        "    threshold = -1\n",
        "    max_sigma = -1\n",
        "\n",
        "    # Iterasi melalui nilai threshold yang mungkin\n",
        "    for i in range(1, 256):\n",
        "        p1, p2 = np.hsplit(hist_norm, [i])  # Pisahkan dua kelas\n",
        "        q1 = Q[i]\n",
        "        q2 = Q[255] - Q[i]\n",
        "\n",
        "        # Hindari pembagian nol\n",
        "        if q1 == 0 or q2 == 0:\n",
        "            continue\n",
        "\n",
        "        # Hitung variance intra kelas\n",
        "        b1 = np.sum(p1 * bins[:i]) / q1\n",
        "        b2 = np.sum(p2 * bins[i:]) / q2\n",
        "        sigma = q1 * q2 * ((b1 - b2) ** 2)\n",
        "\n",
        "        # Update threshold jika ditemukan sigma yang lebih besar\n",
        "        if sigma > max_sigma:\n",
        "            max_sigma = sigma\n",
        "            threshold = i\n",
        "\n",
        "    # Thresholding gambar menggunakan nilai threshold yang dihitung\n",
        "    _, thresholded = cv2.threshold(intensity_channel, threshold, 255, cv2.THRESH_BINARY)\n",
        "\n",
        "    # Resize gambar hasil thresholding\n",
        "    resized_thresholded = cv2.resize(thresholded, output_size)\n",
        "    return resized_original, resized_thresholded\n",
        "\n",
        "def detect_currency(image_path):\n",
        "    # Baca gambar\n",
        "    image = cv2.imread(image_path)\n",
        "\n",
        "    # Inisialisasi detektor objek\n",
        "    detector = cv2.SimpleBlobDetector_create()\n",
        "\n",
        "    # Konversi gambar ke skala abu-abu\n",
        "    gray = cv2.cvtColor(image, cv2.COLOR_BGR2GRAY)\n",
        "\n",
        "    # Deteksi blob (objek)\n",
        "    keypoints = detector.detect(gray)\n",
        "\n",
        "    # Menentukan apakah objek terdeteksi sebagai uang asli atau palsu\n",
        "    if len(keypoints) > 0:\n",
        "        result = \"Uang Asli\"\n",
        "    else:\n",
        "        result = \"Uang Palsu\"\n",
        "\n",
        "    # Mengembalikan hasil deteksi\n",
        "    return result"
      ],
      "metadata": {
        "id": "2F7hnbdsfnkK"
      },
      "execution_count": null,
      "outputs": []
    }
  ],
  "metadata": {
    "colab": {
      "name": "Selamat Datang di Colaboratory",
      "toc_visible": true,
      "provenance": [],
      "gpuType": "V28",
      "include_colab_link": true
    },
    "kernelspec": {
      "display_name": "Python 3",
      "name": "python3"
    },
    "accelerator": "TPU"
  },
  "nbformat": 4,
  "nbformat_minor": 0
}